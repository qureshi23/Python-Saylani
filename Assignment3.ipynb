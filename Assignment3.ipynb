{
  "nbformat": 4,
  "nbformat_minor": 0,
  "metadata": {
    "colab": {
      "name": "Assignment 3.ipynb",
      "provenance": []
    },
    "kernelspec": {
      "name": "python3",
      "display_name": "Python 3"
    }
  },
  "cells": [
    {
      "cell_type": "code",
      "metadata": {
        "id": "6MPrJEHGZu4_",
        "colab_type": "code",
        "colab": {
          "base_uri": "https://localhost:8080/",
          "height": 85
        },
        "outputId": "7a99d1c4-8268-4451-8282-ca875f363908"
      },
      "source": [
        "select = input(\"Select 1 for add, 2 for subtract, 3 for multiply, 4 for divide, 5 for power :\") \n",
        "  \n",
        "number_1 = int(input(\"Enter first number: \")) \n",
        "number_2 = int(input(\"Enter second number: \")) \n",
        "  \n",
        "if select == '1': \n",
        "    print(number_1, \"+\", number_2, \"=\", number_1 + number_2) \n",
        "  \n",
        "elif select == '2': \n",
        "    print(number_1, \"-\", number_2, \"=\", number_1 - number_2) \n",
        "  \n",
        "elif select == '3': \n",
        "    print(number_1, \"x\", number_2, \"=\", number_1 * number_2) \n",
        "  \n",
        "elif select == '4': \n",
        "    print(number_1, \"/\", number_2, \"=\", number_1 / number_2) \n",
        "elif select == '5': \n",
        "    print(number_1, \"^\", number_2, \"=\", number_1 ** number_2)\n",
        "else: \n",
        "    print(\"Invalid input\") "
      ],
      "execution_count": 5,
      "outputs": [
        {
          "output_type": "stream",
          "text": [
            "Select operations form 1, 2, 3, 4 :5\n",
            "Enter first number: 3\n",
            "Enter second number: 2\n",
            "3 ^ 2 = 9\n"
          ],
          "name": "stdout"
        }
      ]
    },
    {
      "cell_type": "code",
      "metadata": {
        "id": "-QYPlwItaIP0",
        "colab_type": "code",
        "colab": {
          "base_uri": "https://localhost:8080/",
          "height": 34
        },
        "outputId": "28f28870-9a01-4e9a-e281-f1abdd5463dc"
      },
      "source": [
        "\n",
        "listOfElems = ['Hello', 'Ok', 'is', 'Ok', 'test', 'this', 'is', 'a', 'test']\n",
        " \n",
        "result = checkIfDuplicates_2(listOfElems)\n",
        " \n",
        "if result:\n",
        "    print('Yes, list contains duplicates')\n",
        "else:\n",
        "    print('No duplicates found in list')"
      ],
      "execution_count": 31,
      "outputs": [
        {
          "output_type": "stream",
          "text": [
            "No duplicates found in list\n"
          ],
          "name": "stdout"
        }
      ]
    },
    {
      "cell_type": "code",
      "metadata": {
        "id": "u3_zjLmqc2tW",
        "colab_type": "code",
        "colab": {
          "base_uri": "https://localhost:8080/",
          "height": 51
        },
        "outputId": "e255a935-00f8-462b-9e04-d49a69ee004e"
      },
      "source": [
        "d = {0:10, 1:20}\n",
        "print(d)\n",
        "d.update({2:30})\n",
        "print(d)"
      ],
      "execution_count": 25,
      "outputs": [
        {
          "output_type": "stream",
          "text": [
            "{0: 10, 1: 20}\n",
            "{0: 10, 1: 20, 2: 30}\n"
          ],
          "name": "stdout"
        }
      ]
    },
    {
      "cell_type": "code",
      "metadata": {
        "id": "i-ZvHDhbdKIc",
        "colab_type": "code",
        "colab": {
          "base_uri": "https://localhost:8080/",
          "height": 34
        },
        "outputId": "a127d985-704a-4a75-bd56-f3a2c74b5f2e"
      },
      "source": [
        "my_dict = {'data1':100,'data2':-54,'data3':247, 'date4' : 23}\n",
        "print(sum(my_dict.values()))"
      ],
      "execution_count": 10,
      "outputs": [
        {
          "output_type": "stream",
          "text": [
            "316\n"
          ],
          "name": "stdout"
        }
      ]
    },
    {
      "cell_type": "code",
      "metadata": {
        "id": "dk-v3jKUdk4M",
        "colab_type": "code",
        "colab": {
          "base_uri": "https://localhost:8080/",
          "height": 51
        },
        "outputId": "63cd94e6-e664-4ae5-d90d-f7012bb10339"
      },
      "source": [
        "my_list = [20,30,20,30,40,50,15,11,20,40,50,15,6,7]\n",
        " \n",
        "my_list.sort()\n",
        "print(my_list)\n",
        " \n",
        "new_list = sorted(set(my_list))\n",
        "dup_list =[]\n",
        " \n",
        " \n",
        "for i in range(len(new_list)):\n",
        "        if (my_list.count(new_list[i]) > 1 ):\n",
        "            dup_list.append(new_list[i])\n",
        "        \n",
        "print(dup_list) "
      ],
      "execution_count": 15,
      "outputs": [
        {
          "output_type": "stream",
          "text": [
            "[6, 7, 11, 15, 15, 20, 20, 20, 30, 30, 40, 40, 50, 50]\n",
            "[15, 20, 30, 40, 50]\n"
          ],
          "name": "stdout"
        }
      ]
    },
    {
      "cell_type": "code",
      "metadata": {
        "id": "Uizoqkx6eTvt",
        "colab_type": "code",
        "colab": {
          "base_uri": "https://localhost:8080/",
          "height": 51
        },
        "outputId": "4149eb3d-4ec3-483f-8a65-6a3b86a1c90d"
      },
      "source": [
        "key = int(input(\"Enter a key : \"))\n",
        "d = {1: 10, 2: 20, 3: 30, 4: 40, 5: 50, 6: 60}\n",
        "def is_key_present(x):\n",
        "  if x in d:\n",
        "      print('Key is already exist in the dictionary')\n",
        "  else:\n",
        "      print('Key is not exist in the dictionary')\n",
        "is_key_present(key)\n"
      ],
      "execution_count": 17,
      "outputs": [
        {
          "output_type": "stream",
          "text": [
            "Enter a key : 4\n",
            "Key is already exist in the dictionary\n"
          ],
          "name": "stdout"
        }
      ]
    },
    {
      "cell_type": "code",
      "metadata": {
        "id": "-HHeTJ1Dfxn9",
        "colab_type": "code",
        "colab": {}
      },
      "source": [
        ""
      ],
      "execution_count": 0,
      "outputs": []
    }
  ]
}
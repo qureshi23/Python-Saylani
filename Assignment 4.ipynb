{
 "cells": [
  {
   "cell_type": "code",
   "execution_count": 8,
   "metadata": {},
   "outputs": [
    {
     "name": "stdout",
     "output_type": "stream",
     "text": [
      "dict_items([('first name', 'zanoon'), ('last name', 'qureshi'), ('age', '6'), ('city', 'karachi')])\n",
      "dict_items([('first name', 'zanoon'), ('last name', 'qureshi'), ('age', '6'), ('city', 'karachi'), ('qualification', '2 class')])\n",
      "dict_items([('first name', 'zanoon'), ('last name', 'qureshi'), ('age', '6'), ('city', 'karachi')])\n"
     ]
    }
   ],
   "source": [
    "student_1 = {\n",
    "    \"first name\": 'zanoon',\n",
    "    'last name': 'qureshi',\n",
    "    'age': '6',\n",
    "    'city': 'karachi'\n",
    "}\n",
    "print(student_1.items())\n",
    "student_1.update({'qualification': '2 class'})\n",
    "print(student_1.items())\n",
    "del student_1['qualification']\n",
    "print(student_1.items())"
   ]
  },
  {
   "cell_type": "code",
   "execution_count": 22,
   "metadata": {},
   "outputs": [
    {
     "name": "stdout",
     "output_type": "stream",
     "text": [
      "\n",
      "Karachi is in Pakistan.\n",
      "  It has a population of about 15741000.\n",
      "  The Largest City Of Pakistan is fact.\n",
      "\n",
      "Islamabad is in Pakistan.\n",
      "  It has a population of about 109506.\n",
      "  The Capital Of Pakistan is fact.\n",
      "\n",
      "Lahore is in Pakistan.\n",
      "  It has a population of about 109506.\n",
      "  The 2Nd Largest City Of Pakistan is fact.\n"
     ]
    }
   ],
   "source": [
    "cities = {\n",
    "    \n",
    "    'karachi': {\n",
    "        'country': 'Pakistan',\n",
    "        'population': 15741000,\n",
    "        'fact': 'Largest City of Pakistan',\n",
    "    },\n",
    "    \n",
    "    'islamabad' : {\n",
    "        'country': 'Pakistan',\n",
    "        'population': 109506,\n",
    "        'fact': 'Capital of Pakistan'\n",
    "    },\n",
    "    'lahore' : {\n",
    "        'country': 'Pakistan',\n",
    "        'population': 109506,\n",
    "        'fact': '2nd Largest City of Pakistan'\n",
    "    },\n",
    "}\n",
    "for city, city_info in cities.items():\n",
    "    country = city_info['country'].title()\n",
    "    population = city_info['population']\n",
    "    fact = city_info['fact'].title()\n",
    "\n",
    "    print(\"\\n\" + city.title() + \" is in \" + country + \".\")\n",
    "    print(\"  It has a population of about \" + str(population) + \".\")\n",
    "    print(\"  The \" + fact + \" is fact.\")"
   ]
  },
  {
   "cell_type": "code",
   "execution_count": 7,
   "metadata": {},
   "outputs": [
    {
     "name": "stdout",
     "output_type": "stream",
     "text": [
      "Enter your age : 15\n",
      "Your ticket price is 15$\n"
     ]
    }
   ],
   "source": [
    "age = int(input(\"Enter your age : \"))\n",
    "\n",
    "if age < 3:\n",
    "    print(\"Your ticket FREE\")\n",
    "elif age >=3 and age<=12:\n",
    "    print(\"Your ticket price is 10$\")\n",
    "else:\n",
    "    print(\"Your ticket price is 15$\")"
   ]
  },
  {
   "cell_type": "code",
   "execution_count": 16,
   "metadata": {},
   "outputs": [
    {
     "name": "stdout",
     "output_type": "stream",
     "text": [
      "Enter a title :python\n",
      "One of my favorite books is Smarter way to learn python.\n"
     ]
    }
   ],
   "source": [
    "def favorite_book(title):\n",
    "    if title == \"python\":\n",
    "        print('One of my favorite books is Smarter way to learn python.')\n",
    "    else:\n",
    "        print('Please enter correct title')\n",
    "title = input(\"Enter a title : \")\n",
    "favorite_book(title)"
   ]
  },
  {
   "cell_type": "code",
   "execution_count": 26,
   "metadata": {},
   "outputs": [
    {
     "name": "stdout",
     "output_type": "stream",
     "text": [
      "Guess any number between 1 to 30 : 42\n",
      "You entered too high number\n",
      "Guess any number between 1 to 30 : 12\n",
      "You entered too low number\n",
      "Guess any number between 1 to 30 : 24\n",
      "You entered too low number\n"
     ]
    }
   ],
   "source": [
    "import random\n",
    "num = random.randint(1,30)\n",
    "\n",
    "for i in range(3):\n",
    "    number = int(input(\"Guess any number between 1 to 30 : \"))\n",
    "\n",
    "    if number == num:\n",
    "        print(\"Congratulations! You got it!\")\n",
    "    elif number > num:\n",
    "        print(\"You entered too high number\")\n",
    "    else:\n",
    "        print(\"You entered too low number\")\n"
   ]
  }
 ],
 "metadata": {
  "kernelspec": {
   "display_name": "Python 3",
   "language": "python",
   "name": "python3"
  },
  "language_info": {
   "codemirror_mode": {
    "name": "ipython",
    "version": 3
   },
   "file_extension": ".py",
   "mimetype": "text/x-python",
   "name": "python",
   "nbconvert_exporter": "python",
   "pygments_lexer": "ipython3",
   "version": "3.7.3"
  }
 },
 "nbformat": 4,
 "nbformat_minor": 2
}

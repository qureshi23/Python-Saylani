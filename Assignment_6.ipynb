{
  "nbformat": 4,
  "nbformat_minor": 0,
  "metadata": {
    "colab": {
      "name": "Assignment 6.ipynb",
      "provenance": []
    },
    "kernelspec": {
      "name": "python3",
      "display_name": "Python 3"
    }
  },
  "cells": [
    {
      "cell_type": "markdown",
      "metadata": {
        "id": "d466NtGqmb0a",
        "colab_type": "text"
      },
      "source": [
        "**OBJECT ORIENTED PROGRAMMING:**\n",
        "Object-oriented programming (OOP) refers to a type of computer programming (software design) \n",
        "in which programmers define the data type of a data structure, \n",
        "and also the types of operations (functions) that can be applied to the data structure."
      ]
    },
    {
      "cell_type": "markdown",
      "metadata": {
        "id": "o2Xm6AYkmlc0",
        "colab_type": "text"
      },
      "source": [
        ""
      ]
    },
    {
      "cell_type": "code",
      "metadata": {
        "id": "YEG6eqccmjC4",
        "colab_type": "code",
        "colab": {}
      },
      "source": [
        ""
      ],
      "execution_count": 0,
      "outputs": []
    },
    {
      "cell_type": "markdown",
      "metadata": {
        "id": "DvUPzvLLmuQU",
        "colab_type": "text"
      },
      "source": [
        "**List down the Benefits of OOP?**\n",
        "\n",
        "1. Modularity for easier troubleshooting\n",
        "2. Reuse of code through inheritance\n",
        "3. Flexibility through polymorphism\n",
        "4. Effective problem solving"
      ]
    },
    {
      "cell_type": "markdown",
      "metadata": {
        "id": "7-fRATlonPom",
        "colab_type": "text"
      },
      "source": [
        "**Differentiate between function and method?**\n",
        "\n",
        "**FUNCTION:**\n",
        "A function is a piece of code that is called by name. It can be passed data to operate on (i.e. the parameters) and can optionally return data (the return value). All data that is passed to a function is explicitly passed.\n",
        "\n",
        "**METHOD:**\n",
        "A method is a piece of code that is called by a name that is associated with an object. In most respects it is identical to a function except for two key differences:\n",
        "\n",
        "1. A method is implicitly passed the object on which it was called.\n",
        "2. A method is able to operate on data that is contained within the class (remembering that an object is an instance of a class - the class is the definition, the object is an instance of that data)."
      ]
    },
    {
      "cell_type": "markdown",
      "metadata": {
        "id": "shIsWgsLoEzV",
        "colab_type": "text"
      },
      "source": [
        "CLASS:\n",
        "In object-oriented programming, a class is a blueprint for creating objects (a particular data structure), providing initial values for state (member variables or attributes), and implementations of behavior (member functions or methods).\n",
        "\n",
        "OBJECT:\n",
        "In object-oriented programming (OOP), objects are the things you think about first in designing a program and they are also the units of code that are eventually derived from the process. In between, each object is made into a generic class of object and even more generic classes are defined so that objects can share models and reuse the class definitions in their code. Each object is an instance of a particular class or subclass with the class's own methods or procedures and data variables. An object is what actually runs in the computer.\n",
        "\n",
        "ATTRIBUTE:\n",
        "In object-oriented programming (OOP), objects are the things you think about first in designing a program and they are also the units of code that are eventually derived from the process. ... Each object is an instance of a particular class or subclass with the class's own methods or procedures and data variables.\n",
        "\n",
        "BEHAVIOR:\n",
        "A class's behavior determines how an instance of that class operates; for example, how it will \"react\" if asked to do something by another class or object or if its internal state changes. Behavior is the only way objects can do anything to themselves or have anything done to them."
      ]
    },
    {
      "cell_type": "code",
      "metadata": {
        "id": "WnD9hbrVpArl",
        "colab_type": "code",
        "colab": {
          "base_uri": "https://localhost:8080/",
          "height": 578
        },
        "outputId": "fc257b73-eb7a-4f3d-8c39-d7c30af21ef2"
      },
      "source": [
        "class Car():\n",
        "  def __init__(self,model,color,name,warranty,price):\n",
        "    self.model = model\n",
        "    self.color = color\n",
        "    self.name = name\n",
        "    self.warranty = warranty\n",
        "    self.price = price\n",
        "  \n",
        "car1 = Car(2016,\"Grey\",\"Acura RDX\",\"2 year\",9126000)\n",
        "car2 = Car(2019,\"Black\",\"Audi A7\",\"3 year\",34750000)\n",
        "car3 = Car(2018,\"Black\",\"Audi A6\",\"3 year\",24750000)\n",
        "car4 = Car(2015,\"Red\",\"Audi A3\",\"2 year\",6000000)\n",
        "car5 = Car(2017,\"Light Grey\",\"Audi A5\",\"2.5 year\",10000000)\n",
        "\n",
        "print(\"Model : \",car1.model)\n",
        "print(\"Color : \",car1.color)\n",
        "print(\"Name : \",car1.name)\n",
        "print(\"Warranty : \",car1.warranty)\n",
        "print(\"Price : \",car1.price,\"PKR\")\n",
        "print(\"\\n\")\n",
        "\n",
        "print(\"Model : \",car2.model)\n",
        "print(\"Color : \",car2.color)\n",
        "print(\"Name : \",car2.name)\n",
        "print(\"Warranty : \",car2.warranty)\n",
        "print(\"Price : \",car2.price,\"PKR\")\n",
        "print(\"\\n\")\n",
        "\n",
        "print(\"Model : \",car3.model)\n",
        "print(\"Color : \",car3.color)\n",
        "print(\"Name : \",car3.name)\n",
        "print(\"Warranty : \",car3.warranty)\n",
        "print(\"Price : \",car3.price,\"PKR\")\n",
        "print(\"\\n\")\n",
        "\n",
        "print(\"Model : \",car4.model)\n",
        "print(\"Color : \",car4.color)\n",
        "print(\"Name : \",car4.name)\n",
        "print(\"Warranty : \",car4.warranty)\n",
        "print(\"Price : \",car4.price,\"PKR\")\n",
        "print(\"\\n\")\n",
        "\n",
        "print(\"Model : \",car5.model)\n",
        "print(\"Color : \",car5.color)\n",
        "print(\"Name : \",car5.name)\n",
        "print(\"Warranty : \",car5.warranty)\n",
        "print(\"Price : \",car5.price,\"PKR\")"
      ],
      "execution_count": 6,
      "outputs": [
        {
          "output_type": "stream",
          "text": [
            "Model :  2016\n",
            "Color :  Grey\n",
            "Name :  Acura RDX\n",
            "Warranty :  2 year\n",
            "Price :  9126000 PKR\n",
            "\n",
            "\n",
            "Model :  2019\n",
            "Color :  Black\n",
            "Name :  Audi A7\n",
            "Warranty :  3 year\n",
            "Price :  34750000 PKR\n",
            "\n",
            "\n",
            "Model :  2018\n",
            "Color :  Black\n",
            "Name :  Audi A6\n",
            "Warranty :  3 year\n",
            "Price :  24750000 PKR\n",
            "\n",
            "\n",
            "Model :  2015\n",
            "Color :  Red\n",
            "Name :  Audi A3\n",
            "Warranty :  2 year\n",
            "Price :  6000000 PKR\n",
            "\n",
            "\n",
            "Model :  2017\n",
            "Color :  Light Grey\n",
            "Name :  Audi A5\n",
            "Warranty :  2.5 year\n",
            "Price :  10000000 PKR\n"
          ],
          "name": "stdout"
        }
      ]
    },
    {
      "cell_type": "code",
      "metadata": {
        "id": "KC7hiTIqtDRV",
        "colab_type": "code",
        "colab": {}
      },
      "source": [
        ""
      ],
      "execution_count": 0,
      "outputs": []
    }
  ]
}
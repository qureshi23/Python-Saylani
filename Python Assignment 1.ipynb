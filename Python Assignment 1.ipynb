{
 "cells": [
  {
   "cell_type": "code",
   "execution_count": 1,
   "metadata": {},
   "outputs": [
    {
     "name": "stdout",
     "output_type": "stream",
     "text": [
      "\n",
      " Twinkle, twinkle little star,\n",
      "\t How I wonder what you are!\n",
      "\t\t Up above the world so high,\n",
      "\t\t Like a dimond in the sky.\n",
      " Twinkle, twinkle little star,s\n",
      "\t How I wonder what you are\n"
     ]
    }
   ],
   "source": [
    "# 1: print specific pattern:\n",
    "print(\"\\n Twinkle, twinkle little star,\")\n",
    "print(\"\\t How I wonder what you are!\")\n",
    "print(\"\\t\\t Up above the world so high,\")\n",
    "print(\"\\t\\t Like a dimond in the sky.\")\n",
    "print(\" Twinkle, twinkle little star,s\")\n",
    "print(\"\\t How I wonder what you are\")"
   ]
  },
  {
   "cell_type": "code",
   "execution_count": 2,
   "metadata": {},
   "outputs": [
    {
     "name": "stdout",
     "output_type": "stream",
     "text": [
      "Python Version: 3.7.3 (default, Mar 27 2019, 17:13:21) [MSC v.1915 64 bit (AMD64)]\n"
     ]
    }
   ],
   "source": [
    "# 2: Get python version:\n",
    "import sys\n",
    "version = sys.version\n",
    "print(\"Python Version:\",version)"
   ]
  },
  {
   "cell_type": "code",
   "execution_count": 3,
   "metadata": {},
   "outputs": [
    {
     "name": "stdout",
     "output_type": "stream",
     "text": [
      "Date & Time:   2019-11-05 22:56:33.390705\n"
     ]
    }
   ],
   "source": [
    "# 3:\n",
    "from datetime import datetime\n",
    "# datetime object containing current date and time\n",
    "now = datetime.now()\n",
    "print(\"Date & Time:  \", now)"
   ]
  },
  {
   "cell_type": "code",
   "execution_count": 4,
   "metadata": {},
   "outputs": [
    {
     "name": "stdout",
     "output_type": "stream",
     "text": [
      "Enter value of radius: \t23\n",
      "72.29\n"
     ]
    }
   ],
   "source": [
    "# 4: Takes radius of a circle from the user and compute the area:\n",
    "radius = float(input(\"Enter value of radius: \\t\"))\n",
    "pi = 22/7\n",
    "area_of_circle = pi*radius\n",
    "print (\"{:.2f}\".format(area_of_circle))"
   ]
  },
  {
   "cell_type": "code",
   "execution_count": 5,
   "metadata": {},
   "outputs": [
    {
     "name": "stdout",
     "output_type": "stream",
     "text": [
      "Enetr your first name: \tasd\n",
      "Enter your last name: \tsda\n",
      "sda asd\n"
     ]
    }
   ],
   "source": [
    "# 5: Take input First $ last name then print in reverse order with space b/w them: \n",
    "f_name = input(\"Enetr your first name: \\t\")#[::-1]\n",
    "l_name = input(\"Enter your last name: \\t\")#[::-1]\n",
    "print(l_name+\" \"+f_name)"
   ]
  },
  {
   "cell_type": "code",
   "execution_count": 6,
   "metadata": {},
   "outputs": [
    {
     "name": "stdout",
     "output_type": "stream",
     "text": [
      "Enter the first number: 23\n",
      "Enter the second number: 32\n",
      "23  +  32  =  55\n"
     ]
    }
   ],
   "source": [
    "# 6: Takes two input from user and print them addition:\n",
    "num1 = int(input(\"Enter the first number: \"))\n",
    "num2 = int(input(\"Enter the second number: \"))\n",
    "result = num1 + num2\n",
    "print(num1,\" + \",num2, \" = \",result)"
   ]
  },
  {
   "cell_type": "code",
   "execution_count": null,
   "metadata": {},
   "outputs": [],
   "source": []
  }
 ],
 "metadata": {
  "kernelspec": {
   "display_name": "Python 3",
   "language": "python",
   "name": "python3"
  },
  "language_info": {
   "codemirror_mode": {
    "name": "ipython",
    "version": 3
   },
   "file_extension": ".py",
   "mimetype": "text/x-python",
   "name": "python",
   "nbconvert_exporter": "python",
   "pygments_lexer": "ipython3",
   "version": "3.7.3"
  }
 },
 "nbformat": 4,
 "nbformat_minor": 2
}

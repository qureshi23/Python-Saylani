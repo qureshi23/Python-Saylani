{
  "nbformat": 4,
  "nbformat_minor": 0,
  "metadata": {
    "colab": {
      "name": "Assignment2.ipynb",
      "provenance": []
    },
    "kernelspec": {
      "name": "python3",
      "display_name": "Python 3"
    }
  },
  "cells": [
    {
      "cell_type": "code",
      "metadata": {
        "id": "Y1FKphUWOZZW",
        "colab_type": "code",
        "colab": {
          "base_uri": "https://localhost:8080/",
          "height": 119
        },
        "outputId": "11a56a61-afcd-4d2c-91fb-791fee33ea65"
      },
      "source": [
        "sub1=int(input(\"Enter marks of the first subject: \"))\n",
        "sub2=int(input(\"Enter marks of the second subject: \"))\n",
        "sub3=int(input(\"Enter marks of the third subject: \"))\n",
        "sub4=int(input(\"Enter marks of the fourth subject: \"))\n",
        "sub5=int(input(\"Enter marks of the fifth subject: \"))\n",
        "avg=(sub1+sub2+sub3+sub4+sub4)/5\n",
        "if(avg>=90):\n",
        "    print(\"Grade: A\")\n",
        "elif(avg>=80 and avg<90):\n",
        "    print(\"Grade: B\")\n",
        "elif(avg>=70 and avg<80):\n",
        "    print(\"Grade: C\")\n",
        "elif(avg>=60 and avg<70):\n",
        "    print(\"Grade: D\")\n",
        "else:\n",
        "    print(\"Grade: F\")\n"
      ],
      "execution_count": 1,
      "outputs": [
        {
          "output_type": "stream",
          "text": [
            "Enter marks of the first subject: 78\n",
            "Enter marks of the second subject: 78\n",
            "Enter marks of the third subject: 54\n",
            "Enter marks of the fourth subject: 65\n",
            "Enter marks of the fifth subject: 12\n",
            "Grade: D\n"
          ],
          "name": "stdout"
        }
      ]
    },
    {
      "cell_type": "code",
      "metadata": {
        "id": "8cGzV56PZ7sk",
        "colab_type": "code",
        "colab": {
          "base_uri": "https://localhost:8080/",
          "height": 51
        },
        "outputId": "2c2bc33f-0de1-40b4-c300-e8fc7f436574"
      },
      "source": [
        "num = int(input(\"Enter any number : \"))\n",
        "if num % 2 ==0:\n",
        "  print(\"NUMBER IS EVEN\")\n",
        "else:\n",
        "  print(\"NUMBER IS ODD\")"
      ],
      "execution_count": 7,
      "outputs": [
        {
          "output_type": "stream",
          "text": [
            "Enter any number : 4\n",
            "NUMBER IS EVEN\n"
          ],
          "name": "stdout"
        }
      ]
    },
    {
      "cell_type": "code",
      "metadata": {
        "id": "PacOljskbPGR",
        "colab_type": "code",
        "colab": {
          "base_uri": "https://localhost:8080/",
          "height": 34
        },
        "outputId": "b5bcf901-e2a4-43bd-b29b-5bc97b01d9a7"
      },
      "source": [
        "list = [1,\"a\",3,\"r\",5,6,7,8,9]\n",
        "\n",
        "print(\"Length of list is : \",len(list))\n"
      ],
      "execution_count": 13,
      "outputs": [
        {
          "output_type": "stream",
          "text": [
            "Length of list is :  9\n"
          ],
          "name": "stdout"
        }
      ]
    },
    {
      "cell_type": "code",
      "metadata": {
        "id": "3NVWogpQcTck",
        "colab_type": "code",
        "colab": {
          "base_uri": "https://localhost:8080/",
          "height": 136
        },
        "outputId": "0947ad73-ddf7-418e-fd72-4035270f3675"
      },
      "source": [
        "list = []\n",
        "num = int(input('How many numbers: '))\n",
        "for i in range(num):\n",
        "  numbers = int(input('Enter number '))\n",
        "  list.append(numbers)\n",
        "print(\"Sum of elements in given list is :\", sum(list))\n"
      ],
      "execution_count": 17,
      "outputs": [
        {
          "output_type": "stream",
          "text": [
            "How many numbers: 5\n",
            "Enter number 2\n",
            "Enter number 5\n",
            "Enter number 4\n",
            "Enter number 1\n",
            "Enter number 3\n",
            "Sum of elements in given list is : 15\n"
          ],
          "name": "stdout"
        }
      ]
    },
    {
      "cell_type": "code",
      "metadata": {
        "id": "DD_TdrnvetfT",
        "colab_type": "code",
        "colab": {
          "base_uri": "https://localhost:8080/",
          "height": 119
        },
        "outputId": "9ee14d86-7f2e-4257-d71c-8aa0e9b62905"
      },
      "source": [
        "list = []\n",
        "num = int(input('How many numbers: '))\n",
        "for i in range(num):\n",
        "    numbers = int(input('Enter number '))\n",
        "    list.append(numbers)\n",
        "print(\"Maximum element in the list is :\", max(list))"
      ],
      "execution_count": 18,
      "outputs": [
        {
          "output_type": "stream",
          "text": [
            "How many numbers: 4\n",
            "Enter number 87\n",
            "Enter number 45\n",
            "Enter number 110\n",
            "Enter number 45\n",
            "Maximum element in the list is : 110\n"
          ],
          "name": "stdout"
        }
      ]
    },
    {
      "cell_type": "code",
      "metadata": {
        "id": "sOpstRd7jvj5",
        "colab_type": "code",
        "colab": {
          "base_uri": "https://localhost:8080/",
          "height": 34
        },
        "outputId": "2da15b80-8905-430d-ce78-050033536a36"
      },
      "source": [
        "a = [1, 1, 2, 3, 5, 8, 13, 21, 34, 55, 89]\n",
        "\n",
        "new=[]\n",
        "\n",
        "for i in a:\n",
        "  if i>5:\n",
        "    new.append(i)\n",
        "                        \n",
        "print(new)"
      ],
      "execution_count": 45,
      "outputs": [
        {
          "output_type": "stream",
          "text": [
            "[8, 13, 21, 34, 55, 89]\n"
          ],
          "name": "stdout"
        }
      ]
    },
    {
      "cell_type": "code",
      "metadata": {
        "id": "4-Q5JNvBkRy3",
        "colab_type": "code",
        "colab": {}
      },
      "source": [
        ""
      ],
      "execution_count": 0,
      "outputs": []
    }
  ]
}
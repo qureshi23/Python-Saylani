{
  "nbformat": 4,
  "nbformat_minor": 0,
  "metadata": {
    "colab": {
      "name": "Assignment 5.ipynb",
      "provenance": [],
      "collapsed_sections": []
    },
    "kernelspec": {
      "name": "python3",
      "display_name": "Python 3"
    }
  },
  "cells": [
    {
      "cell_type": "code",
      "metadata": {
        "id": "JaIUehwNWFI-",
        "colab_type": "code",
        "outputId": "044ef595-84ca-4b73-d75c-14265fd50b31",
        "colab": {
          "base_uri": "https://localhost:8080/",
          "height": 51
        }
      },
      "source": [
        "def factorial(num):\n",
        "    if num == 0:\n",
        "        return 1\n",
        "    else:\n",
        "        return num * factorial(num-1)\n",
        "num=int(input(\"Input a number to compute the factiorial : \"))\n",
        "output = factorial(num)\n",
        "print(output)"
      ],
      "execution_count": 1,
      "outputs": [
        {
          "output_type": "stream",
          "text": [
            "Input a number to compute the factiorial : 4\n",
            "24\n"
          ],
          "name": "stdout"
        }
      ]
    },
    {
      "cell_type": "code",
      "metadata": {
        "colab_type": "code",
        "outputId": "6b9cdc7e-482c-45ed-d38d-40d34ae1b198",
        "id": "ZozNw6Lzb7PB",
        "colab": {
          "base_uri": "https://localhost:8080/",
          "height": 85
        }
      },
      "source": [
        "string = input(\"Enter random alphabets (lower or upper case) : \")\n",
        "def string_find(string):\n",
        "    upper = []\n",
        "    lower = []\n",
        "    for find in string:\n",
        "        if find.isupper():\n",
        "           upper.append(find)\n",
        "        elif find.islower():\n",
        "           lower.append(find)\n",
        "        else:\n",
        "           pass\n",
        "    print (\"Original String : \", string)\n",
        "    print (\"No. of Upper case characters : \" , len(upper))\n",
        "    print (\"No. of Lower case Characters : \" , len(lower))\n",
        "string_find(string)"
      ],
      "execution_count": 2,
      "outputs": [
        {
          "output_type": "stream",
          "text": [
            "Enter random alphabets (lower or upper case) : dsaGHKdsa\n",
            "Original String :  dsaGHKdsa\n",
            "No. of Upper case characters :  3\n",
            "No. of Lower case Characters :  6\n"
          ],
          "name": "stdout"
        }
      ]
    },
    {
      "cell_type": "code",
      "metadata": {
        "id": "iW19JOFVcA4s",
        "colab_type": "code",
        "outputId": "cb9d475f-5a2e-4c3e-d1c1-0a8f4f91d690",
        "colab": {
          "base_uri": "https://localhost:8080/",
          "height": 34
        }
      },
      "source": [
        "list = [1, 2, 3, 4, 5, 6, 7, 8, 9]\n",
        "def even_num(l):\n",
        "    even = []\n",
        "    for n in l:\n",
        "        if n % 2 == 0:\n",
        "            even.append(n)\n",
        "    return even\n",
        "print(even_num(list))"
      ],
      "execution_count": 20,
      "outputs": [
        {
          "output_type": "stream",
          "text": [
            "[2, 4, 6, 8]\n"
          ],
          "name": "stdout"
        }
      ]
    },
    {
      "cell_type": "code",
      "metadata": {
        "id": "p6eIz0aGc9KG",
        "colab_type": "code",
        "outputId": "5cebbd9a-6c15-4aa9-eede-f1c7c5458c98",
        "colab": {
          "base_uri": "https://localhost:8080/",
          "height": 51
        }
      },
      "source": [
        "user = input(\"Enter any word : \")\n",
        "\n",
        "def pal():\n",
        "  if user == user[::-1]:\n",
        "    print(\"It is a palindrome\")\n",
        "  else:\n",
        "    print(\"It is NOT a palindrome\")\n",
        "\n",
        "pal()"
      ],
      "execution_count": 14,
      "outputs": [
        {
          "output_type": "stream",
          "text": [
            "Enter any word : madam\n",
            "It is a palindrome\n"
          ],
          "name": "stdout"
        }
      ]
    },
    {
      "cell_type": "code",
      "metadata": {
        "id": "4TvnSFrueZT_",
        "colab_type": "code",
        "colab": {
          "base_uri": "https://localhost:8080/",
          "height": 51
        },
        "outputId": "670c01bc-3d80-4670-d3b7-3fe806c936fc"
      },
      "source": [
        "num = int(input(\"Enter any number : \"))\n",
        "def prime(n):\n",
        "    if (n==1):\n",
        "        return False\n",
        "    elif (n==2):\n",
        "        return True;\n",
        "    else:\n",
        "        for x in range(2,n):\n",
        "            if(n % x==0):\n",
        "                return False\n",
        "        return True             \n",
        "print(prime(num))"
      ],
      "execution_count": 22,
      "outputs": [
        {
          "output_type": "stream",
          "text": [
            "Enter any number : 3\n",
            "True\n"
          ],
          "name": "stdout"
        }
      ]
    },
    {
      "cell_type": "code",
      "metadata": {
        "id": "m0Q6_lSMqzdG",
        "colab_type": "code",
        "colab": {
          "base_uri": "https://localhost:8080/",
          "height": 68
        },
        "outputId": "b9c72161-e877-49eb-cda1-eb75bf3cc9a5"
      },
      "source": [
        "def shopping_list(*items): \n",
        "    for shoping in items:\n",
        "       print(shoping)\n",
        "shopping_list(\"alo\", \"tamatar\", \"adrak\")"
      ],
      "execution_count": 21,
      "outputs": [
        {
          "output_type": "stream",
          "text": [
            "alo\n",
            "tamatar\n",
            "adrak\n"
          ],
          "name": "stdout"
        }
      ]
    },
    {
      "cell_type": "code",
      "metadata": {
        "id": "T9NjKjjUsrkC",
        "colab_type": "code",
        "colab": {}
      },
      "source": [
        ""
      ],
      "execution_count": 0,
      "outputs": []
    }
  ]
}